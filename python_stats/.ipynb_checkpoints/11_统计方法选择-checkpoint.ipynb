{
 "cells": [
  {
   "cell_type": "markdown",
   "metadata": {},
   "source": [
    "![image.png](https://upload-images.jianshu.io/upload_images/6634703-c5611a7d02a9fb76.png?imageMogr2/auto-orient/strip%7CimageView2/2/w/1240)\n",
    "![image.png](https://upload-images.jianshu.io/upload_images/6634703-a2851b0fe32f4d90.png?imageMogr2/auto-orient/strip%7CimageView2/2/w/1240)\n",
    "![image.png](https://upload-images.jianshu.io/upload_images/6634703-c2d012972f7bee73.png?imageMogr2/auto-orient/strip%7CimageView2/2/w/1240)\n",
    "\n",
    "![image.png](https://upload-images.jianshu.io/upload_images/6634703-9947f3aedbcc7e45.png?imageMogr2/auto-orient/strip%7CimageView2/2/w/1240)\n",
    "- 举例\n",
    "\n",
    "|1 group, nominal | Average calory intake. E.g. “Do our children eat more than they should?”|\n",
    "|---|---|\n",
    "|1 group, ordinal|Sequence of giant-planets. E.g. “In our solar sys- tem, are giant planets further out than average in the sequence of planets?”|\n",
    "|2 groups, nominal|male/female, blond-hair/black-hair. E.g. “Are females more blond than males?”|\n",
    "|2 groups, nominal, paired|2 labs, analysis of blood samples. E.g. “Does the blood analysis from Lab1 indicate more infections than the analysis from Lab2?”|\n",
    "|2 groups, ordinal|Jamaican/American, ranking 100 m sprint. E.g. “Are Jamaican sprinters more successful than American sprinters?”|\n",
    "|2 groups, ordinal, paired|sprinters, before/after diet. E.g. “Does a chocolate diet make sprinters more successful?”|\n",
    "|3 groups, ordinal|single/married/divorces, ranking 100 m sprint. E.g. “Does the marital status have an effect on the success of sprinters?”|\n",
    "|3 groups, ordinal, paired|sprinters, before/after diet. E.g. “Does a rice diet make Chinese sprinters more successful?”|\n",
    "|2 groups, continuous|male/female, IQ. E.g. “Are women more intelligent than men?”|\n",
    "|2 groups, continuous, paired|male/female, looking at diamonds. E.g. “Does looking at sports cars raise the male heart-beat more than the female?|\n",
    "|3 groups, continuous|Tyrolians, Viennese, Styrians; IQ. E.g. “Are Tyro-lians smarter than people from other Austrian federal states?”|\n",
    "|3 groups, continuous, paired|Tyrolians, Viennese, Styrians; looking at moun-tains. E.g. “Does looking at mountains raise the heart- beat of Tyrolians more than those of other people?”|"
   ]
  },
  {
   "cell_type": "code",
   "execution_count": null,
   "metadata": {},
   "outputs": [],
   "source": []
  }
 ],
 "metadata": {
  "kernelspec": {
   "display_name": "Python 3",
   "language": "python",
   "name": "python3"
  },
  "language_info": {
   "codemirror_mode": {
    "name": "ipython",
    "version": 3
   },
   "file_extension": ".py",
   "mimetype": "text/x-python",
   "name": "python",
   "nbconvert_exporter": "python",
   "pygments_lexer": "ipython3",
   "version": "3.6.7"
  },
  "toc": {
   "base_numbering": 1,
   "nav_menu": {},
   "number_sections": true,
   "sideBar": true,
   "skip_h1_title": false,
   "title_cell": "Table of Contents",
   "title_sidebar": "Contents",
   "toc_cell": false,
   "toc_position": {},
   "toc_section_display": true,
   "toc_window_display": false
  },
  "varInspector": {
   "cols": {
    "lenName": 16,
    "lenType": 16,
    "lenVar": 40
   },
   "kernels_config": {
    "python": {
     "delete_cmd_postfix": "",
     "delete_cmd_prefix": "del ",
     "library": "var_list.py",
     "varRefreshCmd": "print(var_dic_list())"
    },
    "r": {
     "delete_cmd_postfix": ") ",
     "delete_cmd_prefix": "rm(",
     "library": "var_list.r",
     "varRefreshCmd": "cat(var_dic_list()) "
    }
   },
   "types_to_exclude": [
    "module",
    "function",
    "builtin_function_or_method",
    "instance",
    "_Feature"
   ],
   "window_display": false
  }
 },
 "nbformat": 4,
 "nbformat_minor": 2
}
