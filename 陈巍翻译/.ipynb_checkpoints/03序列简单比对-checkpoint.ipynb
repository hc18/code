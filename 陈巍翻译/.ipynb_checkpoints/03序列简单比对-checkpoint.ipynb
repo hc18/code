{
 "cells": [
  {
   "cell_type": "code",
   "execution_count": 12,
   "metadata": {},
   "outputs": [
    {
     "name": "stdout",
     "output_type": "stream",
     "text": [
      "--2018-11-09 18:26:07--  https://d28rh4a8wq0iu5.cloudfront.net/ads1/data/phix.fa\n",
      "Resolving d28rh4a8wq0iu5.cloudfront.net... 54.192.75.43, 54.192.75.151, 54.192.75.207, ...\n",
      "Connecting to d28rh4a8wq0iu5.cloudfront.net|54.192.75.43|:443... connected.\n",
      "HTTP request sent, awaiting response... 200 OK\n",
      "Length: 5528 (5.4K) [application/octet-stream]\n",
      "Saving to: 'phix.fa.1'\n",
      "\n",
      "phix.fa.1           100%[===================>]   5.40K  --.-KB/s    in 0s      \n",
      "\n",
      "2018-11-09 18:26:08 (351 MB/s) - 'phix.fa.1' saved [5528/5528]\n",
      "\n"
     ]
    }
   ],
   "source": [
    "!wget --no-check https://d28rh4a8wq0iu5.cloudfront.net/ads1/data/phix.fa"
   ]
  },
  {
   "cell_type": "code",
   "execution_count": 7,
   "metadata": {
    "code_folding": []
   },
   "outputs": [],
   "source": [
    "def readGenome(filename):\n",
    "    genome = ''\n",
    "    with open(filename,'r') as f:\n",
    "        for line in f:\n",
    "            if not line[0] == '>':\n",
    "                genome += line.rstrip()\n",
    "    return genome\n",
    "genome =readGenome('phix.fa')"
   ]
  },
  {
   "cell_type": "code",
   "execution_count": 8,
   "metadata": {},
   "outputs": [],
   "source": [
    "def naive(p,t):\n",
    "    occurrences = []\n",
    "    for i in range(len(t)-len(p)+1):\n",
    "        match = True\n",
    "        for j in range(len(p)):\n",
    "            if not t[i+j] == p[j]: # 大循环滑动，小循环比较\n",
    "                match = False\n",
    "                break\n",
    "        if match:\n",
    "            occurrences.append(i)\n",
    "    return occurrences"
   ]
  },
  {
   "cell_type": "code",
   "execution_count": 9,
   "metadata": {},
   "outputs": [
    {
     "data": {
      "text/plain": [
       "[0, 5, 9]"
      ]
     },
     "execution_count": 9,
     "metadata": {},
     "output_type": "execute_result"
    }
   ],
   "source": [
    "t = 'AGCTTAGATAGC'\n",
    "p = 'AG'\n",
    "naive(p,t)"
   ]
  },
  {
   "cell_type": "code",
   "execution_count": 10,
   "metadata": {},
   "outputs": [],
   "source": [
    "# 从基因组中随机截取一段作为产生人工的序列\n",
    "import random\n",
    "def generateReads(genome, numReads, readLen):\n",
    "    '''Generate reads from random positions in the given genome.'''\n",
    "    reads =[]\n",
    "    for _ in range(numReads):\n",
    "        start = random.randint(0,len(genome)-readLen) -1\n",
    "        reads.append(genome[start:start+readLen])\n",
    "    return reads"
   ]
  },
  {
   "cell_type": "code",
   "execution_count": 11,
   "metadata": {},
   "outputs": [
    {
     "name": "stdout",
     "output_type": "stream",
     "text": [
      "100 / 100 reads mathced exactly\n"
     ]
    }
   ],
   "source": [
    "reads = generateReads(genome, 100, 100)\n",
    "\n",
    "numMatched = 0\n",
    "for r in reads:\n",
    "    matchs = naive(r,genome)\n",
    "    if len(matchs) >0:\n",
    "        numMatched +=1\n",
    "print('%d / %d reads mathced exactly' % (numMatched,len(reads)))"
   ]
  },
  {
   "cell_type": "code",
   "execution_count": 12,
   "metadata": {},
   "outputs": [
    {
     "name": "stdout",
     "output_type": "stream",
     "text": [
      "--2018-11-10 12:33:15--  http://d28rh4a8wq0iu5.cloudfront.net/ads1/data/ERR266411_1.first1000.fastq\n",
      "Resolving d28rh4a8wq0iu5.cloudfront.net... 54.192.75.208, 54.192.75.43, 54.192.75.151, ...\n",
      "Connecting to d28rh4a8wq0iu5.cloudfront.net|54.192.75.208|:80... connected.\n",
      "HTTP request sent, awaiting response... 200 OK\n",
      "Length: 254384 (248K) [audio/mpeg]\n",
      "Saving to: 'ERR266411_1.first1000.fastq.1'\n",
      "\n",
      "ERR266411_1.first10 100%[===================>] 248.42K   344KB/s    in 0.7s    \n",
      "\n",
      "2018-11-10 12:33:17 (344 KB/s) - 'ERR266411_1.first1000.fastq.1' saved [254384/254384]\n",
      "\n"
     ]
    }
   ],
   "source": [
    "!wget http://d28rh4a8wq0iu5.cloudfront.net/ads1/data/ERR266411_1.first1000.fastq"
   ]
  },
  {
   "cell_type": "code",
   "execution_count": 13,
   "metadata": {},
   "outputs": [],
   "source": [
    "def readFastq(filename):\n",
    "    sequences = []\n",
    "    with open(filename) as fh:\n",
    "        while True:\n",
    "            fh.readline() # skip name line\n",
    "            seq = fh.readline().rstrip() # read base sequence\n",
    "            fh.readline() # skip placeholder line\n",
    "            fh.readline() # skip base quality line\n",
    "            if len(seq) == 0:\n",
    "                break\n",
    "            sequences.append(seq)\n",
    "    return sequences"
   ]
  },
  {
   "cell_type": "code",
   "execution_count": 14,
   "metadata": {},
   "outputs": [
    {
     "data": {
      "text/plain": [
       "Counter({'T': 30531, 'A': 28426, 'C': 21890, 'G': 19147, 'N': 6})"
      ]
     },
     "execution_count": 14,
     "metadata": {},
     "output_type": "execute_result"
    }
   ],
   "source": [
    "import collections\n",
    "phix_reads = readFastq('ERR266411_1.first1000.fastq')\n",
    "count = collections.Counter()\n",
    "for read in phix_reads:\n",
    "    count.update(read)\n",
    "count"
   ]
  },
  {
   "cell_type": "code",
   "execution_count": 15,
   "metadata": {},
   "outputs": [
    {
     "name": "stdout",
     "output_type": "stream",
     "text": [
      "7 / 1000 reads matched the genome exactly!\n"
     ]
    }
   ],
   "source": [
    "numMatched = 0\n",
    "n = 0\n",
    "for r in phix_reads:\n",
    "    matches = naive(r, genome)\n",
    "    n += 1\n",
    "    if len(matches) > 0:\n",
    "        numMatched += 1\n",
    "print('%d / %d reads matched the genome exactly!' % (numMatched, n))"
   ]
  },
  {
   "cell_type": "code",
   "execution_count": 16,
   "metadata": {},
   "outputs": [
    {
     "name": "stdout",
     "output_type": "stream",
     "text": [
      "459 / 1000 reads matched the genome exactly!\n"
     ]
    }
   ],
   "source": [
    "# Now let's try matching just the first 30 bases of each read\n",
    "numMatched = 0\n",
    "n = 0\n",
    "for r in phix_reads:\n",
    "    r = r[:30]  # just taking the first 30 bases\n",
    "    matches = naive(r, genome)\n",
    "    n += 1\n",
    "    if len(matches) > 0:\n",
    "        numMatched += 1\n",
    "print('%d / %d reads matched the genome exactly!' % (numMatched, n))"
   ]
  },
  {
   "cell_type": "code",
   "execution_count": 18,
   "metadata": {},
   "outputs": [],
   "source": [
    "def reverseComplement(s):\n",
    "    complement = {'A': 'T', 'C': 'G', 'G': 'C', 'T': 'A', 'N': 'N'}\n",
    "    t = ''\n",
    "    for base in s:\n",
    "        t = complement[base] + t\n",
    "    return t"
   ]
  },
  {
   "cell_type": "code",
   "execution_count": 20,
   "metadata": {},
   "outputs": [
    {
     "name": "stdout",
     "output_type": "stream",
     "text": [
      "932 / 1000 reads matched the genome exactly!\n"
     ]
    }
   ],
   "source": [
    "numMatched = 0\n",
    "n = 0\n",
    "for r in phix_reads:\n",
    "    r = r[:30]  # just taking the first 30 bases\n",
    "    matches = naive(r, genome)\n",
    "    matches.extend(naive(reverseComplement(r), genome)) # 反向的也比比看\n",
    "    n += 1\n",
    "    if len(matches) > 0:\n",
    "        numMatched += 1\n",
    "print('%d / %d reads matched the genome exactly!' % (numMatched, n))"
   ]
  },
  {
   "cell_type": "code",
   "execution_count": null,
   "metadata": {},
   "outputs": [],
   "source": []
  }
 ],
 "metadata": {
  "kernelspec": {
   "display_name": "Python 3",
   "language": "python",
   "name": "python3"
  },
  "language_info": {
   "codemirror_mode": {
    "name": "ipython",
    "version": 3
   },
   "file_extension": ".py",
   "mimetype": "text/x-python",
   "name": "python",
   "nbconvert_exporter": "python",
   "pygments_lexer": "ipython3",
   "version": "3.6.5"
  },
  "toc": {
   "base_numbering": 1,
   "nav_menu": {},
   "number_sections": true,
   "sideBar": true,
   "skip_h1_title": false,
   "title_cell": "Table of Contents",
   "title_sidebar": "Contents",
   "toc_cell": false,
   "toc_position": {},
   "toc_section_display": true,
   "toc_window_display": false
  },
  "varInspector": {
   "cols": {
    "lenName": 16,
    "lenType": 16,
    "lenVar": 40
   },
   "kernels_config": {
    "python": {
     "delete_cmd_postfix": "",
     "delete_cmd_prefix": "del ",
     "library": "var_list.py",
     "varRefreshCmd": "print(var_dic_list())"
    },
    "r": {
     "delete_cmd_postfix": ") ",
     "delete_cmd_prefix": "rm(",
     "library": "var_list.r",
     "varRefreshCmd": "cat(var_dic_list()) "
    }
   },
   "types_to_exclude": [
    "module",
    "function",
    "builtin_function_or_method",
    "instance",
    "_Feature"
   ],
   "window_display": false
  }
 },
 "nbformat": 4,
 "nbformat_minor": 2
}
